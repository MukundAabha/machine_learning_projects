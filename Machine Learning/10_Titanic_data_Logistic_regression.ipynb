{
 "cells": [
  {
   "cell_type": "code",
   "execution_count": 1,
   "metadata": {},
   "outputs": [],
   "source": [
    "import pandas as pd\n",
    "import numpy as np\n",
    "\n",
    "import matplotlib\n",
    "import matplotlib.pyplot as plt\n",
    "from pandas.plotting import scatter_matrix\n",
    "%matplotlib inline\n",
    "\n",
    "import seaborn as sns\n",
    "sns.set(style=\"white\",color_codes=True)\n",
    "sns.set(font_scale=1.5)\n",
    "\n",
    "from sklearn.linear_model import LogisticRegression\n",
    "from sklearn.model_selection import train_test_split\n",
    "\n",
    "from sklearn.metrics import confusion_matrix\n",
    "from sklearn.metrics import classification_report\n",
    "from sklearn.metrics import classification_report\n",
    "from sklearn.metrics import accuracy_score\n",
    "from sklearn.metrics import precision_score\n",
    "from sklearn.metrics import recall_score\n",
    "from sklearn.metrics import f1_score\n",
    "from sklearn import metrics"
   ]
  },
  {
   "cell_type": "code",
   "execution_count": 2,
   "metadata": {},
   "outputs": [],
   "source": [
    "df_train = pd.read_csv('C:/data/train.csv')"
   ]
  },
  {
   "cell_type": "code",
   "execution_count": 3,
   "metadata": {},
   "outputs": [
    {
     "data": {
      "text/plain": [
       "(891, 12)"
      ]
     },
     "execution_count": 3,
     "metadata": {},
     "output_type": "execute_result"
    }
   ],
   "source": [
    "df_train.shape"
   ]
  },
  {
   "cell_type": "code",
   "execution_count": 4,
   "metadata": {},
   "outputs": [
    {
     "data": {
      "text/plain": [
       "0    549\n",
       "1    342\n",
       "Name: Survived, dtype: int64"
      ]
     },
     "execution_count": 4,
     "metadata": {},
     "output_type": "execute_result"
    }
   ],
   "source": [
    "df_train.Survived.value_counts()"
   ]
  },
  {
   "cell_type": "code",
   "execution_count": 5,
   "metadata": {},
   "outputs": [
    {
     "data": {
      "text/plain": [
       "male      577\n",
       "female    314\n",
       "Name: Sex, dtype: int64"
      ]
     },
     "execution_count": 5,
     "metadata": {},
     "output_type": "execute_result"
    }
   ],
   "source": [
    "df_train.Sex.value_counts()"
   ]
  },
  {
   "cell_type": "code",
   "execution_count": 6,
   "metadata": {},
   "outputs": [
    {
     "data": {
      "text/plain": [
       "S    644\n",
       "C    168\n",
       "Q     77\n",
       "Name: Embarked, dtype: int64"
      ]
     },
     "execution_count": 6,
     "metadata": {},
     "output_type": "execute_result"
    }
   ],
   "source": [
    "df_train.Embarked.value_counts()"
   ]
  },
  {
   "cell_type": "code",
   "execution_count": 7,
   "metadata": {},
   "outputs": [
    {
     "data": {
      "text/plain": [
       "PassengerId      0\n",
       "Survived         0\n",
       "Pclass           0\n",
       "Name             0\n",
       "Sex              0\n",
       "Age            177\n",
       "SibSp            0\n",
       "Parch            0\n",
       "Ticket           0\n",
       "Fare             0\n",
       "Cabin          687\n",
       "Embarked         2\n",
       "dtype: int64"
      ]
     },
     "execution_count": 7,
     "metadata": {},
     "output_type": "execute_result"
    }
   ],
   "source": [
    "df_train.isnull().sum()"
   ]
  },
  {
   "cell_type": "code",
   "execution_count": 8,
   "metadata": {},
   "outputs": [
    {
     "data": {
      "text/html": [
       "<div>\n",
       "<style scoped>\n",
       "    .dataframe tbody tr th:only-of-type {\n",
       "        vertical-align: middle;\n",
       "    }\n",
       "\n",
       "    .dataframe tbody tr th {\n",
       "        vertical-align: top;\n",
       "    }\n",
       "\n",
       "    .dataframe thead th {\n",
       "        text-align: right;\n",
       "    }\n",
       "</style>\n",
       "<table border=\"1\" class=\"dataframe\">\n",
       "  <thead>\n",
       "    <tr style=\"text-align: right;\">\n",
       "      <th></th>\n",
       "      <th>PassengerId</th>\n",
       "      <th>Survived</th>\n",
       "      <th>Pclass</th>\n",
       "      <th>Name</th>\n",
       "      <th>Sex</th>\n",
       "      <th>Age</th>\n",
       "      <th>SibSp</th>\n",
       "      <th>Parch</th>\n",
       "      <th>Ticket</th>\n",
       "      <th>Fare</th>\n",
       "      <th>Cabin</th>\n",
       "      <th>Embarked</th>\n",
       "    </tr>\n",
       "  </thead>\n",
       "  <tbody>\n",
       "    <tr>\n",
       "      <th>0</th>\n",
       "      <td>1</td>\n",
       "      <td>0</td>\n",
       "      <td>3</td>\n",
       "      <td>Braund, Mr. Owen Harris</td>\n",
       "      <td>male</td>\n",
       "      <td>22.0</td>\n",
       "      <td>1</td>\n",
       "      <td>0</td>\n",
       "      <td>A/5 21171</td>\n",
       "      <td>7.2500</td>\n",
       "      <td>NaN</td>\n",
       "      <td>S</td>\n",
       "    </tr>\n",
       "    <tr>\n",
       "      <th>1</th>\n",
       "      <td>2</td>\n",
       "      <td>1</td>\n",
       "      <td>1</td>\n",
       "      <td>Cumings, Mrs. John Bradley (Florence Briggs Th...</td>\n",
       "      <td>female</td>\n",
       "      <td>38.0</td>\n",
       "      <td>1</td>\n",
       "      <td>0</td>\n",
       "      <td>PC 17599</td>\n",
       "      <td>71.2833</td>\n",
       "      <td>C85</td>\n",
       "      <td>C</td>\n",
       "    </tr>\n",
       "    <tr>\n",
       "      <th>2</th>\n",
       "      <td>3</td>\n",
       "      <td>1</td>\n",
       "      <td>3</td>\n",
       "      <td>Heikkinen, Miss. Laina</td>\n",
       "      <td>female</td>\n",
       "      <td>26.0</td>\n",
       "      <td>0</td>\n",
       "      <td>0</td>\n",
       "      <td>STON/O2. 3101282</td>\n",
       "      <td>7.9250</td>\n",
       "      <td>NaN</td>\n",
       "      <td>S</td>\n",
       "    </tr>\n",
       "    <tr>\n",
       "      <th>3</th>\n",
       "      <td>4</td>\n",
       "      <td>1</td>\n",
       "      <td>1</td>\n",
       "      <td>Futrelle, Mrs. Jacques Heath (Lily May Peel)</td>\n",
       "      <td>female</td>\n",
       "      <td>35.0</td>\n",
       "      <td>1</td>\n",
       "      <td>0</td>\n",
       "      <td>113803</td>\n",
       "      <td>53.1000</td>\n",
       "      <td>C123</td>\n",
       "      <td>S</td>\n",
       "    </tr>\n",
       "    <tr>\n",
       "      <th>4</th>\n",
       "      <td>5</td>\n",
       "      <td>0</td>\n",
       "      <td>3</td>\n",
       "      <td>Allen, Mr. William Henry</td>\n",
       "      <td>male</td>\n",
       "      <td>35.0</td>\n",
       "      <td>0</td>\n",
       "      <td>0</td>\n",
       "      <td>373450</td>\n",
       "      <td>8.0500</td>\n",
       "      <td>NaN</td>\n",
       "      <td>S</td>\n",
       "    </tr>\n",
       "  </tbody>\n",
       "</table>\n",
       "</div>"
      ],
      "text/plain": [
       "   PassengerId  Survived  Pclass  \\\n",
       "0            1         0       3   \n",
       "1            2         1       1   \n",
       "2            3         1       3   \n",
       "3            4         1       1   \n",
       "4            5         0       3   \n",
       "\n",
       "                                                Name     Sex   Age  SibSp  \\\n",
       "0                            Braund, Mr. Owen Harris    male  22.0      1   \n",
       "1  Cumings, Mrs. John Bradley (Florence Briggs Th...  female  38.0      1   \n",
       "2                             Heikkinen, Miss. Laina  female  26.0      0   \n",
       "3       Futrelle, Mrs. Jacques Heath (Lily May Peel)  female  35.0      1   \n",
       "4                           Allen, Mr. William Henry    male  35.0      0   \n",
       "\n",
       "   Parch            Ticket     Fare Cabin Embarked  \n",
       "0      0         A/5 21171   7.2500   NaN        S  \n",
       "1      0          PC 17599  71.2833   C85        C  \n",
       "2      0  STON/O2. 3101282   7.9250   NaN        S  \n",
       "3      0            113803  53.1000  C123        S  \n",
       "4      0            373450   8.0500   NaN        S  "
      ]
     },
     "execution_count": 8,
     "metadata": {},
     "output_type": "execute_result"
    }
   ],
   "source": [
    "df_train.head()"
   ]
  },
  {
   "cell_type": "code",
   "execution_count": 9,
   "metadata": {},
   "outputs": [
    {
     "data": {
      "text/plain": [
       "(891, 12)"
      ]
     },
     "execution_count": 9,
     "metadata": {},
     "output_type": "execute_result"
    }
   ],
   "source": [
    "df_train.shape"
   ]
  },
  {
   "cell_type": "code",
   "execution_count": 10,
   "metadata": {},
   "outputs": [
    {
     "data": {
      "text/html": [
       "<div>\n",
       "<style scoped>\n",
       "    .dataframe tbody tr th:only-of-type {\n",
       "        vertical-align: middle;\n",
       "    }\n",
       "\n",
       "    .dataframe tbody tr th {\n",
       "        vertical-align: top;\n",
       "    }\n",
       "\n",
       "    .dataframe thead th {\n",
       "        text-align: right;\n",
       "    }\n",
       "</style>\n",
       "<table border=\"1\" class=\"dataframe\">\n",
       "  <thead>\n",
       "    <tr style=\"text-align: right;\">\n",
       "      <th></th>\n",
       "      <th>Survived</th>\n",
       "      <th>Pclass</th>\n",
       "      <th>Sex</th>\n",
       "      <th>Age</th>\n",
       "      <th>SibSp</th>\n",
       "      <th>Parch</th>\n",
       "      <th>Fare</th>\n",
       "      <th>Embarked</th>\n",
       "    </tr>\n",
       "  </thead>\n",
       "  <tbody>\n",
       "    <tr>\n",
       "      <th>0</th>\n",
       "      <td>0</td>\n",
       "      <td>3</td>\n",
       "      <td>male</td>\n",
       "      <td>22.0</td>\n",
       "      <td>1</td>\n",
       "      <td>0</td>\n",
       "      <td>7.2500</td>\n",
       "      <td>S</td>\n",
       "    </tr>\n",
       "    <tr>\n",
       "      <th>1</th>\n",
       "      <td>1</td>\n",
       "      <td>1</td>\n",
       "      <td>female</td>\n",
       "      <td>38.0</td>\n",
       "      <td>1</td>\n",
       "      <td>0</td>\n",
       "      <td>71.2833</td>\n",
       "      <td>C</td>\n",
       "    </tr>\n",
       "    <tr>\n",
       "      <th>2</th>\n",
       "      <td>1</td>\n",
       "      <td>3</td>\n",
       "      <td>female</td>\n",
       "      <td>26.0</td>\n",
       "      <td>0</td>\n",
       "      <td>0</td>\n",
       "      <td>7.9250</td>\n",
       "      <td>S</td>\n",
       "    </tr>\n",
       "    <tr>\n",
       "      <th>3</th>\n",
       "      <td>1</td>\n",
       "      <td>1</td>\n",
       "      <td>female</td>\n",
       "      <td>35.0</td>\n",
       "      <td>1</td>\n",
       "      <td>0</td>\n",
       "      <td>53.1000</td>\n",
       "      <td>S</td>\n",
       "    </tr>\n",
       "    <tr>\n",
       "      <th>4</th>\n",
       "      <td>0</td>\n",
       "      <td>3</td>\n",
       "      <td>male</td>\n",
       "      <td>35.0</td>\n",
       "      <td>0</td>\n",
       "      <td>0</td>\n",
       "      <td>8.0500</td>\n",
       "      <td>S</td>\n",
       "    </tr>\n",
       "  </tbody>\n",
       "</table>\n",
       "</div>"
      ],
      "text/plain": [
       "   Survived  Pclass     Sex   Age  SibSp  Parch     Fare Embarked\n",
       "0         0       3    male  22.0      1      0   7.2500        S\n",
       "1         1       1  female  38.0      1      0  71.2833        C\n",
       "2         1       3  female  26.0      0      0   7.9250        S\n",
       "3         1       1  female  35.0      1      0  53.1000        S\n",
       "4         0       3    male  35.0      0      0   8.0500        S"
      ]
     },
     "execution_count": 10,
     "metadata": {},
     "output_type": "execute_result"
    }
   ],
   "source": [
    "df_train = df_train.drop(['PassengerId','Name','Ticket','Cabin'],axis=1)\n",
    "df_train.head()"
   ]
  },
  {
   "cell_type": "code",
   "execution_count": 11,
   "metadata": {},
   "outputs": [],
   "source": [
    "#visulaizing the age\n",
    "def age_approx(cols):\n",
    "    Age = cols[0]\n",
    "    Pclass = cols[1]\n",
    "    \n",
    "    if pd.isnull(Age):\n",
    "        if Pclass ==1:\n",
    "            return 37\n",
    "        elif Pclass ==2:\n",
    "            return 29\n",
    "        else:\n",
    "            return 24\n",
    "    else:\n",
    "        return Age"
   ]
  },
  {
   "cell_type": "code",
   "execution_count": 12,
   "metadata": {},
   "outputs": [
    {
     "data": {
      "text/html": [
       "<div>\n",
       "<style scoped>\n",
       "    .dataframe tbody tr th:only-of-type {\n",
       "        vertical-align: middle;\n",
       "    }\n",
       "\n",
       "    .dataframe tbody tr th {\n",
       "        vertical-align: top;\n",
       "    }\n",
       "\n",
       "    .dataframe thead th {\n",
       "        text-align: right;\n",
       "    }\n",
       "</style>\n",
       "<table border=\"1\" class=\"dataframe\">\n",
       "  <thead>\n",
       "    <tr style=\"text-align: right;\">\n",
       "      <th></th>\n",
       "      <th>Survived</th>\n",
       "      <th>Age</th>\n",
       "      <th>SibSp</th>\n",
       "      <th>Parch</th>\n",
       "      <th>Fare</th>\n",
       "    </tr>\n",
       "    <tr>\n",
       "      <th>Pclass</th>\n",
       "      <th></th>\n",
       "      <th></th>\n",
       "      <th></th>\n",
       "      <th></th>\n",
       "      <th></th>\n",
       "    </tr>\n",
       "  </thead>\n",
       "  <tbody>\n",
       "    <tr>\n",
       "      <th>1</th>\n",
       "      <td>0.629630</td>\n",
       "      <td>38.233441</td>\n",
       "      <td>0.416667</td>\n",
       "      <td>0.356481</td>\n",
       "      <td>84.154687</td>\n",
       "    </tr>\n",
       "    <tr>\n",
       "      <th>2</th>\n",
       "      <td>0.472826</td>\n",
       "      <td>29.877630</td>\n",
       "      <td>0.402174</td>\n",
       "      <td>0.380435</td>\n",
       "      <td>20.662183</td>\n",
       "    </tr>\n",
       "    <tr>\n",
       "      <th>3</th>\n",
       "      <td>0.242363</td>\n",
       "      <td>25.140620</td>\n",
       "      <td>0.615071</td>\n",
       "      <td>0.393075</td>\n",
       "      <td>13.675550</td>\n",
       "    </tr>\n",
       "  </tbody>\n",
       "</table>\n",
       "</div>"
      ],
      "text/plain": [
       "        Survived        Age     SibSp     Parch       Fare\n",
       "Pclass                                                    \n",
       "1       0.629630  38.233441  0.416667  0.356481  84.154687\n",
       "2       0.472826  29.877630  0.402174  0.380435  20.662183\n",
       "3       0.242363  25.140620  0.615071  0.393075  13.675550"
      ]
     },
     "execution_count": 12,
     "metadata": {},
     "output_type": "execute_result"
    }
   ],
   "source": [
    "df_train.groupby(['Pclass']).mean()"
   ]
  },
  {
   "cell_type": "code",
   "execution_count": 13,
   "metadata": {},
   "outputs": [],
   "source": [
    "df_train['Age'] = df_train[['Age','Pclass']].apply(age_approx, axis=1)"
   ]
  },
  {
   "cell_type": "code",
   "execution_count": 14,
   "metadata": {},
   "outputs": [
    {
     "data": {
      "text/plain": [
       "Survived    0\n",
       "Pclass      0\n",
       "Sex         0\n",
       "Age         0\n",
       "SibSp       0\n",
       "Parch       0\n",
       "Fare        0\n",
       "Embarked    2\n",
       "dtype: int64"
      ]
     },
     "execution_count": 14,
     "metadata": {},
     "output_type": "execute_result"
    }
   ],
   "source": [
    "df_train.isnull().sum()"
   ]
  },
  {
   "cell_type": "code",
   "execution_count": 15,
   "metadata": {},
   "outputs": [
    {
     "data": {
      "text/plain": [
       "Survived    0\n",
       "Pclass      0\n",
       "Sex         0\n",
       "Age         0\n",
       "SibSp       0\n",
       "Parch       0\n",
       "Fare        0\n",
       "Embarked    0\n",
       "dtype: int64"
      ]
     },
     "execution_count": 15,
     "metadata": {},
     "output_type": "execute_result"
    }
   ],
   "source": [
    "df_train.dropna(inplace=True)\n",
    "df_train.isnull().sum()"
   ]
  },
  {
   "cell_type": "code",
   "execution_count": 16,
   "metadata": {},
   "outputs": [
    {
     "data": {
      "text/plain": [
       "Survived      int64\n",
       "Pclass        int64\n",
       "Sex          object\n",
       "Age         float64\n",
       "SibSp         int64\n",
       "Parch         int64\n",
       "Fare        float64\n",
       "Embarked     object\n",
       "dtype: object"
      ]
     },
     "execution_count": 16,
     "metadata": {},
     "output_type": "execute_result"
    }
   ],
   "source": [
    "df_train.dtypes"
   ]
  },
  {
   "cell_type": "code",
   "execution_count": 17,
   "metadata": {},
   "outputs": [],
   "source": [
    "df_train_dummied = pd.get_dummies(df_train,columns=['Sex'])"
   ]
  },
  {
   "cell_type": "code",
   "execution_count": 18,
   "metadata": {},
   "outputs": [],
   "source": [
    "df_train_dummied = pd.get_dummies(df_train_dummied,columns=['Embarked'])"
   ]
  },
  {
   "cell_type": "code",
   "execution_count": 19,
   "metadata": {},
   "outputs": [
    {
     "data": {
      "text/html": [
       "<div>\n",
       "<style scoped>\n",
       "    .dataframe tbody tr th:only-of-type {\n",
       "        vertical-align: middle;\n",
       "    }\n",
       "\n",
       "    .dataframe tbody tr th {\n",
       "        vertical-align: top;\n",
       "    }\n",
       "\n",
       "    .dataframe thead th {\n",
       "        text-align: right;\n",
       "    }\n",
       "</style>\n",
       "<table border=\"1\" class=\"dataframe\">\n",
       "  <thead>\n",
       "    <tr style=\"text-align: right;\">\n",
       "      <th></th>\n",
       "      <th>Survived</th>\n",
       "      <th>Pclass</th>\n",
       "      <th>Age</th>\n",
       "      <th>SibSp</th>\n",
       "      <th>Parch</th>\n",
       "      <th>Fare</th>\n",
       "      <th>Sex_female</th>\n",
       "      <th>Sex_male</th>\n",
       "      <th>Embarked_C</th>\n",
       "      <th>Embarked_Q</th>\n",
       "      <th>Embarked_S</th>\n",
       "    </tr>\n",
       "  </thead>\n",
       "  <tbody>\n",
       "    <tr>\n",
       "      <th>0</th>\n",
       "      <td>0</td>\n",
       "      <td>3</td>\n",
       "      <td>22.0</td>\n",
       "      <td>1</td>\n",
       "      <td>0</td>\n",
       "      <td>7.2500</td>\n",
       "      <td>0</td>\n",
       "      <td>1</td>\n",
       "      <td>0</td>\n",
       "      <td>0</td>\n",
       "      <td>1</td>\n",
       "    </tr>\n",
       "    <tr>\n",
       "      <th>1</th>\n",
       "      <td>1</td>\n",
       "      <td>1</td>\n",
       "      <td>38.0</td>\n",
       "      <td>1</td>\n",
       "      <td>0</td>\n",
       "      <td>71.2833</td>\n",
       "      <td>1</td>\n",
       "      <td>0</td>\n",
       "      <td>1</td>\n",
       "      <td>0</td>\n",
       "      <td>0</td>\n",
       "    </tr>\n",
       "    <tr>\n",
       "      <th>2</th>\n",
       "      <td>1</td>\n",
       "      <td>3</td>\n",
       "      <td>26.0</td>\n",
       "      <td>0</td>\n",
       "      <td>0</td>\n",
       "      <td>7.9250</td>\n",
       "      <td>1</td>\n",
       "      <td>0</td>\n",
       "      <td>0</td>\n",
       "      <td>0</td>\n",
       "      <td>1</td>\n",
       "    </tr>\n",
       "    <tr>\n",
       "      <th>3</th>\n",
       "      <td>1</td>\n",
       "      <td>1</td>\n",
       "      <td>35.0</td>\n",
       "      <td>1</td>\n",
       "      <td>0</td>\n",
       "      <td>53.1000</td>\n",
       "      <td>1</td>\n",
       "      <td>0</td>\n",
       "      <td>0</td>\n",
       "      <td>0</td>\n",
       "      <td>1</td>\n",
       "    </tr>\n",
       "    <tr>\n",
       "      <th>4</th>\n",
       "      <td>0</td>\n",
       "      <td>3</td>\n",
       "      <td>35.0</td>\n",
       "      <td>0</td>\n",
       "      <td>0</td>\n",
       "      <td>8.0500</td>\n",
       "      <td>0</td>\n",
       "      <td>1</td>\n",
       "      <td>0</td>\n",
       "      <td>0</td>\n",
       "      <td>1</td>\n",
       "    </tr>\n",
       "  </tbody>\n",
       "</table>\n",
       "</div>"
      ],
      "text/plain": [
       "   Survived  Pclass   Age  SibSp  Parch     Fare  Sex_female  Sex_male  \\\n",
       "0         0       3  22.0      1      0   7.2500           0         1   \n",
       "1         1       1  38.0      1      0  71.2833           1         0   \n",
       "2         1       3  26.0      0      0   7.9250           1         0   \n",
       "3         1       1  35.0      1      0  53.1000           1         0   \n",
       "4         0       3  35.0      0      0   8.0500           0         1   \n",
       "\n",
       "   Embarked_C  Embarked_Q  Embarked_S  \n",
       "0           0           0           1  \n",
       "1           1           0           0  \n",
       "2           0           0           1  \n",
       "3           0           0           1  \n",
       "4           0           0           1  "
      ]
     },
     "execution_count": 19,
     "metadata": {},
     "output_type": "execute_result"
    }
   ],
   "source": [
    "df_train_dummied.head()"
   ]
  },
  {
   "cell_type": "code",
   "execution_count": 20,
   "metadata": {},
   "outputs": [
    {
     "data": {
      "text/plain": [
       "<matplotlib.axes._subplots.AxesSubplot at 0xb6dbe48>"
      ]
     },
     "execution_count": 20,
     "metadata": {},
     "output_type": "execute_result"
    },
    {
     "data": {
      "image/png": "[encoded data removed]",
      "text/plain": [
       "<Figure size 432x288 with 2 Axes>"
      ]
     },
     "metadata": {},
     "output_type": "display_data"
    }
   ],
   "source": [
    "plt.figure(figsize=(6,4))\n",
    "sns.heatmap(df_train_dummied.corr())"
   ]
  },
  {
   "cell_type": "code",
   "execution_count": 21,
   "metadata": {},
   "outputs": [],
   "source": [
    "used_features = [\"Pclass\",\"Age\",\"SibSp\",\"Parch\",\"Sex_female\",\"Sex_male\",\"Embarked_C\",\"Embarked_Q\",\"Embarked_S\"]\n",
    "x = df_train_dummied[used_features].values\n",
    "y = df_train_dummied['Survived']"
   ]
  },
  {
   "cell_type": "code",
   "execution_count": 22,
   "metadata": {},
   "outputs": [],
   "source": [
    "x_train,x_test,y_train,y_test = train_test_split(x,y,test_size=0.3,random_state=1)"
   ]
  },
  {
   "cell_type": "code",
   "execution_count": 23,
   "metadata": {},
   "outputs": [
    {
     "name": "stdout",
     "output_type": "stream",
     "text": [
      "(622, 9)\n",
      "(267, 9)\n",
      "(622,)\n",
      "(267,)\n"
     ]
    }
   ],
   "source": [
    "print(x_train.shape)\n",
    "print(x_test.shape)\n",
    "print(y_train.shape)\n",
    "print(y_test.shape)"
   ]
  },
  {
   "cell_type": "code",
   "execution_count": 24,
   "metadata": {},
   "outputs": [],
   "source": [
    "LogReg = LogisticRegression()"
   ]
  },
  {
   "cell_type": "code",
   "execution_count": 25,
   "metadata": {},
   "outputs": [
    {
     "name": "stderr",
     "output_type": "stream",
     "text": [
      "C:\\Users\\Aabha\\anaconda3\\lib\\site-packages\\sklearn\\linear_model\\_logistic.py:940: ConvergenceWarning: lbfgs failed to converge (status=1):\n",
      "STOP: TOTAL NO. of ITERATIONS REACHED LIMIT.\n",
      "\n",
      "Increase the number of iterations (max_iter) or scale the data as shown in:\n",
      "    https://scikit-learn.org/stable/modules/preprocessing.html\n",
      "Please also refer to the documentation for alternative solver options:\n",
      "    https://scikit-learn.org/stable/modules/linear_model.html#logistic-regression\n",
      "  extra_warning_msg=_LOGISTIC_SOLVER_CONVERGENCE_MSG)\n"
     ]
    },
    {
     "data": {
      "text/plain": [
       "LogisticRegression(C=1.0, class_weight=None, dual=False, fit_intercept=True,\n",
       "                   intercept_scaling=1, l1_ratio=None, max_iter=100,\n",
       "                   multi_class='auto', n_jobs=None, penalty='l2',\n",
       "                   random_state=None, solver='lbfgs', tol=0.0001, verbose=0,\n",
       "                   warm_start=False)"
      ]
     },
     "execution_count": 25,
     "metadata": {},
     "output_type": "execute_result"
    }
   ],
   "source": [
    "LogReg.fit(x_train,y_train)"
   ]
  },
  {
   "cell_type": "code",
   "execution_count": 26,
   "metadata": {},
   "outputs": [],
   "source": [
    "y_pred= LogReg.predict(x_test)"
   ]
  },
  {
   "cell_type": "code",
   "execution_count": 27,
   "metadata": {},
   "outputs": [
    {
     "data": {
      "text/plain": [
       "array([[143,  23],\n",
       "       [ 22,  79]], dtype=int64)"
      ]
     },
     "execution_count": 27,
     "metadata": {},
     "output_type": "execute_result"
    }
   ],
   "source": [
    "metrics.confusion_matrix(y_test,y_pred)"
   ]
  },
  {
   "cell_type": "code",
   "execution_count": 28,
   "metadata": {},
   "outputs": [
    {
     "data": {
      "text/plain": [
       "0.8314606741573034"
      ]
     },
     "execution_count": 28,
     "metadata": {},
     "output_type": "execute_result"
    }
   ],
   "source": [
    "metrics.accuracy_score(y_test,y_pred)"
   ]
  },
  {
   "cell_type": "code",
   "execution_count": 29,
   "metadata": {},
   "outputs": [
    {
     "data": {
      "text/plain": [
       "267"
      ]
     },
     "execution_count": 29,
     "metadata": {},
     "output_type": "execute_result"
    }
   ],
   "source": [
    "len(x_test)"
   ]
  },
  {
   "cell_type": "code",
   "execution_count": 30,
   "metadata": {},
   "outputs": [
    {
     "name": "stdout",
     "output_type": "stream",
     "text": [
      "              precision    recall  f1-score   support\n",
      "\n",
      "           0       0.87      0.86      0.86       166\n",
      "           1       0.77      0.78      0.78       101\n",
      "\n",
      "    accuracy                           0.83       267\n",
      "   macro avg       0.82      0.82      0.82       267\n",
      "weighted avg       0.83      0.83      0.83       267\n",
      "\n"
     ]
    }
   ],
   "source": [
    "print(classification_report(y_test,y_pred))"
   ]
  },
  {
   "cell_type": "code",
   "execution_count": 31,
   "metadata": {},
   "outputs": [
    {
     "data": {
      "text/plain": [
       "array([[-1.0412579 , -0.03991823, -0.24271513, -0.0395387 ,  1.19547562,\n",
       "        -1.19011996,  0.35184899, -0.03438536, -0.31210798]])"
      ]
     },
     "execution_count": 31,
     "metadata": {},
     "output_type": "execute_result"
    }
   ],
   "source": [
    "LogReg.coef_"
   ]
  },
  {
   "cell_type": "code",
   "execution_count": 32,
   "metadata": {},
   "outputs": [
    {
     "data": {
      "text/plain": [
       "array([3.65154202])"
      ]
     },
     "execution_count": 32,
     "metadata": {},
     "output_type": "execute_result"
    }
   ],
   "source": [
    "LogReg.intercept_"
   ]
  },
  {
   "cell_type": "code",
   "execution_count": 33,
   "metadata": {},
   "outputs": [
    {
     "data": {
      "text/plain": [
       "Index(['Pclass', 'Age', 'SibSp', 'Parch', 'Sex_female', 'Sex_male',\n",
       "       'Embarked_C', 'Embarked_Q', 'Embarked_S'],\n",
       "      dtype='object')"
      ]
     },
     "execution_count": 33,
     "metadata": {},
     "output_type": "execute_result"
    }
   ],
   "source": [
    "df_train_dummied[used_features].columns"
   ]
  },
  {
   "cell_type": "code",
   "execution_count": 34,
   "metadata": {},
   "outputs": [
    {
     "data": {
      "text/plain": [
       "array([[0.26593658, 0.73406342],\n",
       "       [0.39724834, 0.60275166],\n",
       "       [0.94737654, 0.05262346],\n",
       "       [0.25919305, 0.74080695],\n",
       "       [0.94406305, 0.05593695],\n",
       "       [0.13542752, 0.86457248],\n",
       "       [0.3334532 , 0.6665468 ],\n",
       "       [0.51946578, 0.48053422],\n",
       "       [0.78097656, 0.21902344],\n",
       "       [0.40775305, 0.59224695],\n",
       "       [0.74029997, 0.25970003],\n",
       "       [0.2113135 , 0.7886865 ],\n",
       "       [0.74853806, 0.25146194],\n",
       "       [0.14582211, 0.85417789],\n",
       "       [0.86443919, 0.13556081],\n",
       "       [0.36983263, 0.63016737],\n",
       "       [0.89347914, 0.10652086],\n",
       "       [0.29824592, 0.70175408],\n",
       "       [0.17687592, 0.82312408],\n",
       "       [0.39853151, 0.60146849],\n",
       "       [0.90480939, 0.09519061],\n",
       "       [0.55291392, 0.44708608],\n",
       "       [0.86441832, 0.13558168],\n",
       "       [0.93739228, 0.06260772],\n",
       "       [0.51605084, 0.48394916],\n",
       "       [0.5164537 , 0.4835463 ],\n",
       "       [0.03918186, 0.96081814],\n",
       "       [0.8690493 , 0.1309507 ],\n",
       "       [0.89800138, 0.10199862],\n",
       "       [0.32501458, 0.67498542],\n",
       "       [0.38862434, 0.61137566],\n",
       "       [0.40736355, 0.59263645],\n",
       "       [0.15525741, 0.84474259],\n",
       "       [0.41407053, 0.58592947],\n",
       "       [0.59119759, 0.40880241],\n",
       "       [0.16601863, 0.83398137],\n",
       "       [0.65736005, 0.34263995],\n",
       "       [0.87352556, 0.12647444],\n",
       "       [0.24374315, 0.75625685],\n",
       "       [0.57526254, 0.42473746],\n",
       "       [0.43677368, 0.56322632],\n",
       "       [0.91145258, 0.08854742],\n",
       "       [0.31552009, 0.68447991],\n",
       "       [0.87352556, 0.12647444],\n",
       "       [0.79687465, 0.20312535],\n",
       "       [0.23595051, 0.76404949],\n",
       "       [0.17113895, 0.82886105],\n",
       "       [0.81608018, 0.18391982],\n",
       "       [0.06092765, 0.93907235],\n",
       "       [0.92353336, 0.07646664],\n",
       "       [0.87352556, 0.12647444],\n",
       "       [0.42677078, 0.57322922],\n",
       "       [0.8835496 , 0.1164504 ],\n",
       "       [0.09144607, 0.90855393],\n",
       "       [0.74853806, 0.25146194],\n",
       "       [0.07070487, 0.92929513],\n",
       "       [0.77738698, 0.22261302],\n",
       "       [0.95127816, 0.04872184],\n",
       "       [0.70084418, 0.29915582],\n",
       "       [0.93703734, 0.06296266],\n",
       "       [0.81557173, 0.18442827],\n",
       "       [0.859693  , 0.140307  ],\n",
       "       [0.59119759, 0.40880241],\n",
       "       [0.87352556, 0.12647444],\n",
       "       [0.42677078, 0.57322922],\n",
       "       [0.23646039, 0.76353961],\n",
       "       [0.87352556, 0.12647444],\n",
       "       [0.91146695, 0.08853305],\n",
       "       [0.84449364, 0.15550636],\n",
       "       [0.05440596, 0.94559404],\n",
       "       [0.86384277, 0.13615723],\n",
       "       [0.0564965 , 0.9435035 ],\n",
       "       [0.65346633, 0.34653367],\n",
       "       [0.859693  , 0.140307  ],\n",
       "       [0.3152197 , 0.6847803 ],\n",
       "       [0.13542752, 0.86457248],\n",
       "       [0.8395353 , 0.1604647 ],\n",
       "       [0.92375944, 0.07624056],\n",
       "       [0.82502838, 0.17497162],\n",
       "       [0.83337909, 0.16662091],\n",
       "       [0.8395353 , 0.1604647 ],\n",
       "       [0.86443919, 0.13556081],\n",
       "       [0.03918186, 0.96081814],\n",
       "       [0.05981511, 0.94018489],\n",
       "       [0.76326553, 0.23673447],\n",
       "       [0.61979378, 0.38020622],\n",
       "       [0.4389583 , 0.5610417 ],\n",
       "       [0.42667793, 0.57332207],\n",
       "       [0.87352556, 0.12647444],\n",
       "       [0.36983263, 0.63016737],\n",
       "       [0.89770737, 0.10229263],\n",
       "       [0.32501458, 0.67498542],\n",
       "       [0.93427129, 0.06572871],\n",
       "       [0.78049275, 0.21950725],\n",
       "       [0.24655788, 0.75344212],\n",
       "       [0.83928144, 0.16071856],\n",
       "       [0.22942783, 0.77057217],\n",
       "       [0.27500263, 0.72499737],\n",
       "       [0.24655788, 0.75344212],\n",
       "       [0.21504735, 0.78495265],\n",
       "       [0.84978375, 0.15021625],\n",
       "       [0.34229825, 0.65770175],\n",
       "       [0.60512682, 0.39487318],\n",
       "       [0.85480854, 0.14519146],\n",
       "       [0.85480854, 0.14519146],\n",
       "       [0.90587575, 0.09412425],\n",
       "       [0.13677344, 0.86322656],\n",
       "       [0.84978375, 0.15021625],\n",
       "       [0.76650914, 0.23349086],\n",
       "       [0.81608018, 0.18391982],\n",
       "       [0.63915886, 0.36084114],\n",
       "       [0.74853806, 0.25146194],\n",
       "       [0.78049275, 0.21950725],\n",
       "       [0.18598398, 0.81401602],\n",
       "       [0.36045017, 0.63954983],\n",
       "       [0.0861428 , 0.9138572 ],\n",
       "       [0.9155729 , 0.0844271 ],\n",
       "       [0.40775305, 0.59224695],\n",
       "       [0.0641258 , 0.9358742 ],\n",
       "       [0.79089683, 0.20910317],\n",
       "       [0.87787031, 0.12212969],\n",
       "       [0.20578327, 0.79421673],\n",
       "       [0.32501458, 0.67498542],\n",
       "       [0.50241355, 0.49758645],\n",
       "       [0.20829375, 0.79170625],\n",
       "       [0.89207649, 0.10792351],\n",
       "       [0.44269425, 0.55730575],\n",
       "       [0.90945766, 0.09054234],\n",
       "       [0.88208596, 0.11791404],\n",
       "       [0.57800417, 0.42199583],\n",
       "       [0.44759731, 0.55240269],\n",
       "       [0.60512682, 0.39487318],\n",
       "       [0.87809177, 0.12190823],\n",
       "       [0.59119759, 0.40880241],\n",
       "       [0.36983263, 0.63016737],\n",
       "       [0.0709408 , 0.9290592 ],\n",
       "       [0.859693  , 0.140307  ],\n",
       "       [0.92630514, 0.07369486],\n",
       "       [0.87352556, 0.12647444],\n",
       "       [0.89013982, 0.10986018],\n",
       "       [0.85928433, 0.14071567],\n",
       "       [0.31591209, 0.68408791],\n",
       "       [0.92353336, 0.07646664],\n",
       "       [0.38938628, 0.61061372],\n",
       "       [0.59119759, 0.40880241],\n",
       "       [0.69196082, 0.30803918],\n",
       "       [0.17943423, 0.82056577],\n",
       "       [0.10696171, 0.89303829],\n",
       "       [0.07901706, 0.92098294],\n",
       "       [0.92928252, 0.07071748],\n",
       "       [0.85655572, 0.14344428],\n",
       "       [0.93649012, 0.06350988],\n",
       "       [0.14235779, 0.85764221],\n",
       "       [0.84978375, 0.15021625],\n",
       "       [0.37880352, 0.62119648],\n",
       "       [0.36983263, 0.63016737],\n",
       "       [0.79033665, 0.20966335],\n",
       "       [0.37189945, 0.62810055],\n",
       "       [0.89013982, 0.10986018],\n",
       "       [0.87352556, 0.12647444],\n",
       "       [0.50241355, 0.49758645],\n",
       "       [0.77040246, 0.22959754],\n",
       "       [0.57800417, 0.42199583],\n",
       "       [0.86960714, 0.13039286],\n",
       "       [0.87315124, 0.12684876],\n",
       "       [0.83384844, 0.16615156],\n",
       "       [0.13715237, 0.86284763],\n",
       "       [0.05949802, 0.94050198],\n",
       "       [0.77849455, 0.22150545],\n",
       "       [0.23639188, 0.76360812],\n",
       "       [0.84978375, 0.15021625],\n",
       "       [0.89880988, 0.10119012],\n",
       "       [0.8395353 , 0.1604647 ],\n",
       "       [0.87352556, 0.12647444],\n",
       "       [0.67909223, 0.32090777],\n",
       "       [0.29032377, 0.70967623],\n",
       "       [0.86443919, 0.13556081],\n",
       "       [0.70914584, 0.29085416],\n",
       "       [0.87352556, 0.12647444],\n",
       "       [0.84978375, 0.15021625],\n",
       "       [0.8395353 , 0.1604647 ],\n",
       "       [0.87352556, 0.12647444],\n",
       "       [0.65074638, 0.34925362],\n",
       "       [0.93236196, 0.06763804],\n",
       "       [0.32501458, 0.67498542],\n",
       "       [0.82745548, 0.17254452],\n",
       "       [0.38033986, 0.61966014],\n",
       "       [0.58151607, 0.41848393],\n",
       "       [0.22879869, 0.77120131],\n",
       "       [0.90480939, 0.09519061],\n",
       "       [0.75594416, 0.24405584],\n",
       "       [0.71727392, 0.28272608],\n",
       "       [0.86443919, 0.13556081],\n",
       "       [0.76384429, 0.23615571],\n",
       "       [0.93665801, 0.06334199],\n",
       "       [0.74790057, 0.25209943],\n",
       "       [0.89851795, 0.10148205],\n",
       "       [0.29058279, 0.70941721],\n",
       "       [0.59119759, 0.40880241],\n",
       "       [0.06561232, 0.93438768],\n",
       "       [0.70183548, 0.29816452],\n",
       "       [0.18326877, 0.81673123],\n",
       "       [0.77790647, 0.22209353],\n",
       "       [0.54670446, 0.45329554],\n",
       "       [0.04757181, 0.95242819],\n",
       "       [0.89013982, 0.10986018],\n",
       "       [0.87571422, 0.12428578],\n",
       "       [0.32386015, 0.67613985],\n",
       "       [0.80971697, 0.19028303],\n",
       "       [0.08818316, 0.91181684],\n",
       "       [0.8395353 , 0.1604647 ],\n",
       "       [0.74095002, 0.25904998],\n",
       "       [0.78049275, 0.21950725],\n",
       "       [0.76650914, 0.23349086],\n",
       "       [0.30772646, 0.69227354],\n",
       "       [0.19543443, 0.80456557],\n",
       "       [0.75597703, 0.24402297],\n",
       "       [0.19254226, 0.80745774],\n",
       "       [0.91463569, 0.08536431],\n",
       "       [0.6923704 , 0.3076296 ],\n",
       "       [0.86960714, 0.13039286],\n",
       "       [0.49791364, 0.50208636],\n",
       "       [0.66958331, 0.33041669],\n",
       "       [0.22186224, 0.77813776],\n",
       "       [0.24381312, 0.75618688],\n",
       "       [0.86443919, 0.13556081],\n",
       "       [0.57329121, 0.42670879],\n",
       "       [0.8395353 , 0.1604647 ],\n",
       "       [0.78725508, 0.21274492],\n",
       "       [0.74846661, 0.25153339],\n",
       "       [0.38033986, 0.61966014],\n",
       "       [0.29435198, 0.70564802],\n",
       "       [0.4672206 , 0.5327794 ],\n",
       "       [0.8395353 , 0.1604647 ],\n",
       "       [0.89770737, 0.10229263],\n",
       "       [0.89045292, 0.10954708],\n",
       "       [0.87352556, 0.12647444],\n",
       "       [0.79839449, 0.20160551],\n",
       "       [0.35165791, 0.64834209],\n",
       "       [0.87787031, 0.12212969],\n",
       "       [0.29824592, 0.70175408],\n",
       "       [0.8395353 , 0.1604647 ],\n",
       "       [0.84978375, 0.15021625],\n",
       "       [0.67029217, 0.32970783],\n",
       "       [0.51715945, 0.48284055],\n",
       "       [0.09873519, 0.90126481],\n",
       "       [0.13286267, 0.86713733],\n",
       "       [0.79791047, 0.20208953],\n",
       "       [0.69168718, 0.30831282],\n",
       "       [0.8738793 , 0.1261207 ],\n",
       "       [0.24253052, 0.75746948],\n",
       "       [0.32501458, 0.67498542],\n",
       "       [0.39814981, 0.60185019],\n",
       "       [0.9410552 , 0.0589448 ],\n",
       "       [0.10943613, 0.89056387],\n",
       "       [0.2255512 , 0.7744488 ],\n",
       "       [0.88208596, 0.11791404],\n",
       "       [0.90480939, 0.09519061],\n",
       "       [0.0391533 , 0.9608467 ],\n",
       "       [0.78049275, 0.21950725],\n",
       "       [0.2018774 , 0.7981226 ],\n",
       "       [0.8737138 , 0.1262862 ],\n",
       "       [0.65727456, 0.34272544],\n",
       "       [0.87352556, 0.12647444],\n",
       "       [0.29435198, 0.70564802],\n",
       "       [0.8395353 , 0.1604647 ],\n",
       "       [0.91166419, 0.08833581]])"
      ]
     },
     "execution_count": 34,
     "metadata": {},
     "output_type": "execute_result"
    }
   ],
   "source": [
    "LogReg.predict_proba(x_test)"
   ]
  },
  {
   "cell_type": "code",
   "execution_count": null,
   "metadata": {},
   "outputs": [],
   "source": []
  }
 ],
 "metadata": {
  "kernelspec": {
   "display_name": "Python 3",
   "language": "python",
   "name": "python3"
  },
  "language_info": {
   "codemirror_mode": {
    "name": "ipython",
    "version": 3
   },
   "file_extension": ".py",
   "mimetype": "text/x-python",
   "name": "python",
   "nbconvert_exporter": "python",
   "pygments_lexer": "ipython3",
   "version": "3.7.6"
  }
 },
 "nbformat": 4,
 "nbformat_minor": 4
}
